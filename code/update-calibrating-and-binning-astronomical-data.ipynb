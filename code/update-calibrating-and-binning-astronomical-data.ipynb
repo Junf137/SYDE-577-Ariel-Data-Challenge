{
 "cells": [
  {
   "cell_type": "markdown",
   "id": "495d6b20",
   "metadata": {
    "papermill": {
     "duration": 0.013475,
     "end_time": "2024-08-29T13:25:05.231612",
     "exception": false,
     "start_time": "2024-08-29T13:25:05.218137",
     "status": "completed"
    },
    "tags": []
   },
   "source": [
    "# Calibrating and Time Binning Astronomical Data"
   ]
  },
  {
   "cell_type": "markdown",
   "id": "1b509517",
   "metadata": {
    "papermill": {
     "duration": 0.012946,
     "end_time": "2024-08-29T13:25:05.256810",
     "exception": false,
     "start_time": "2024-08-29T13:25:05.243864",
     "status": "completed"
    },
    "tags": []
   },
   "source": [
    "**UPDATE 14.08**: We have updated the calibration steps in the notebook. We understand that some of you have been using the old calibration procedure. The old procedures still provide a good estimate of the transit depth over different wavelengths, but as competition hosts we understand the difficulty to accurately calibrate the data product (even for us, it is still a learning journey, afterall, we are preparing for the mission), and we want to make sure you have the most updated knowledge on the calibration pipeline, so that it helps your journey in tackling this challenge. We will explain more in our discussion \n",
    "\n",
    "**UPDATE 29.08**: We have added 0.1s to the integration time for both AIRS and FGS observations. They are important when accounting for the contributing of dark frames when calibration the image. The modification, however, should not affect too much of the calibrated product. "
   ]
  },
  {
   "cell_type": "markdown",
   "id": "a2ce51d1",
   "metadata": {
    "papermill": {
     "duration": 0.011873,
     "end_time": "2024-08-29T13:25:05.280847",
     "exception": false,
     "start_time": "2024-08-29T13:25:05.268974",
     "status": "completed"
    },
    "tags": []
   },
   "source": [
    "Data reduction is crucial in astronomical observations, and this challenge is no exception. This notebook outlines essential calibration steps typically employed by astronomers to mitigate noise in data.\n",
    "\n",
    "Key points:\n",
    "\n",
    "- The notebook guides participants through pre-processing data and saving it in a more convenient, lighter format.\n",
    "- If you plan to use the baseline models (which will be released soon), you must run this notebook first before training.\n",
    "\n",
    "Important note: While these steps help reduce noise and data size, they may not be the most effective approach for achieving the optimal model for this challenge. Participants are encouraged to explore alternative methods that could yield better results.\n",
    "\n",
    "\n",
    "\n"
   ]
  },
  {
   "cell_type": "markdown",
   "id": "d57d1509",
   "metadata": {
    "papermill": {
     "duration": 0.011863,
     "end_time": "2024-08-29T13:25:05.305762",
     "exception": false,
     "start_time": "2024-08-29T13:25:05.293899",
     "status": "completed"
    },
    "tags": []
   },
   "source": [
    "**Acknowledgement**: This notebook is prepared by Angèle Syty and Virginie Batista (IAP), with support from Andrea Bocchieri, Orphée Faucoz (CNES), Lorenzo V. Mugnai (Cardiff University & UCL), Tara Tahseen (UCL), Gordon Yip (UCL)."
   ]
  },
  {
   "cell_type": "markdown",
   "id": "2ce68120",
   "metadata": {
    "papermill": {
     "duration": 0.011996,
     "end_time": "2024-08-29T13:25:05.330232",
     "exception": false,
     "start_time": "2024-08-29T13:25:05.318236",
     "status": "completed"
    },
    "tags": []
   },
   "source": [
    "Last modified: 29 Aug 2024. "
   ]
  },
  {
   "cell_type": "code",
   "execution_count": 1,
   "id": "d76f48cd",
   "metadata": {
    "execution": {
     "iopub.execute_input": "2024-08-29T13:25:05.359787Z",
     "iopub.status.busy": "2024-08-29T13:25:05.359338Z",
     "iopub.status.idle": "2024-08-29T13:25:06.960639Z",
     "shell.execute_reply": "2024-08-29T13:25:06.959425Z"
    },
    "papermill": {
     "duration": 1.619176,
     "end_time": "2024-08-29T13:25:06.963493",
     "exception": false,
     "start_time": "2024-08-29T13:25:05.344317",
     "status": "completed"
    },
    "tags": []
   },
   "outputs": [],
   "source": [
    "import numpy as np\n",
    "import pandas as pd\n",
    "import itertools\n",
    "import os\n",
    "import glob\n",
    "from astropy.stats import sigma_clip\n",
    "\n",
    "from tqdm import tqdm"
   ]
  },
  {
   "cell_type": "markdown",
   "id": "492b860a",
   "metadata": {
    "papermill": {
     "duration": 0.012487,
     "end_time": "2024-08-29T13:25:06.988825",
     "exception": false,
     "start_time": "2024-08-29T13:25:06.976338",
     "status": "completed"
    },
    "tags": []
   },
   "source": [
    "Below, we define the corrections we want to apply, the size of the data chunks and the different path used to import data and save the light ones. "
   ]
  },
  {
   "cell_type": "code",
   "execution_count": 2,
   "id": "08f67ce0",
   "metadata": {
    "execution": {
     "iopub.execute_input": "2024-08-29T13:25:07.016147Z",
     "iopub.status.busy": "2024-08-29T13:25:07.015620Z",
     "iopub.status.idle": "2024-08-29T13:25:07.021295Z",
     "shell.execute_reply": "2024-08-29T13:25:07.020146Z"
    },
    "papermill": {
     "duration": 0.021737,
     "end_time": "2024-08-29T13:25:07.023919",
     "exception": false,
     "start_time": "2024-08-29T13:25:07.002182",
     "status": "completed"
    },
    "tags": []
   },
   "outputs": [],
   "source": [
    "# path to the folder containing the data\n",
    "path_folder = \"../dataset/ariel-data-challenge-2024/\"\n",
    "\n",
    "# path to the folder to store the light data\n",
    "path_out = \"../output/data_light_raw/\""
   ]
  },
  {
   "cell_type": "markdown",
   "id": "f2eaf0b0",
   "metadata": {
    "papermill": {
     "duration": 0.012771,
     "end_time": "2024-08-29T13:25:07.049096",
     "exception": false,
     "start_time": "2024-08-29T13:25:07.036325",
     "status": "completed"
    },
    "tags": []
   },
   "source": [
    "If the *path_out* folder doesn't exist yet, it is created. "
   ]
  },
  {
   "cell_type": "code",
   "execution_count": 3,
   "id": "d87454c9",
   "metadata": {
    "execution": {
     "iopub.execute_input": "2024-08-29T13:25:07.076811Z",
     "iopub.status.busy": "2024-08-29T13:25:07.076376Z",
     "iopub.status.idle": "2024-08-29T13:25:07.083439Z",
     "shell.execute_reply": "2024-08-29T13:25:07.082263Z"
    },
    "papermill": {
     "duration": 0.024159,
     "end_time": "2024-08-29T13:25:07.086160",
     "exception": false,
     "start_time": "2024-08-29T13:25:07.062001",
     "status": "completed"
    },
    "tags": []
   },
   "outputs": [
    {
     "name": "stdout",
     "output_type": "stream",
     "text": [
      "Directory ../output/data_light_raw/ already exists.\n"
     ]
    }
   ],
   "source": [
    "if not os.path.exists(path_out):\n",
    "    os.makedirs(path_out)\n",
    "    print(f\"Directory {path_out} created.\")\n",
    "else:\n",
    "    print(f\"Directory {path_out} already exists.\")"
   ]
  },
  {
   "cell_type": "markdown",
   "id": "f47d1b25",
   "metadata": {
    "papermill": {
     "duration": 0.012256,
     "end_time": "2024-08-29T13:25:07.112095",
     "exception": false,
     "start_time": "2024-08-29T13:25:07.099839",
     "status": "completed"
    },
    "tags": []
   },
   "source": [
    "**Data import:**\n",
    "\n",
    " The files are imported by chunks of size 'CHUNK_SIZE' to avoid exceeding the memory capacity. "
   ]
  },
  {
   "cell_type": "code",
   "execution_count": 4,
   "id": "28dc665b",
   "metadata": {
    "execution": {
     "iopub.execute_input": "2024-08-29T13:25:07.139419Z",
     "iopub.status.busy": "2024-08-29T13:25:07.139013Z",
     "iopub.status.idle": "2024-08-29T13:25:07.144089Z",
     "shell.execute_reply": "2024-08-29T13:25:07.142893Z"
    },
    "papermill": {
     "duration": 0.021663,
     "end_time": "2024-08-29T13:25:07.146745",
     "exception": false,
     "start_time": "2024-08-29T13:25:07.125082",
     "status": "completed"
    },
    "tags": []
   },
   "outputs": [],
   "source": [
    "CHUNKS_SIZE = 1\n",
    "\n",
    "# set -1 to process all files\n",
    "TEST_FILE_NUM = 22\n",
    "\n",
    "# AIRS provides higher-resolution data\n",
    "# FGS1 provides higher temporal resolution (more frequent time steps, 12 times)\n",
    "# AIRS and FGS1 data will have same time resolution after binning\n",
    "AIRS_binning = 30\n",
    "FGS1_binning = 30 * 12\n",
    "\n",
    "DO_MASK = True\n",
    "DO_THE_NL_CORR = False # TODO: baseline method didn't do non-linearity correction\n",
    "DO_DARK = True\n",
    "DO_FLAT = True\n",
    "TIME_BINNING = True\n",
    "\n",
    "cut_inf, cut_sup = 39, 321\n",
    "l = cut_sup - cut_inf"
   ]
  },
  {
   "cell_type": "markdown",
   "id": "a4a473c8",
   "metadata": {
    "execution": {
     "iopub.execute_input": "2024-08-02T14:38:41.270597Z",
     "iopub.status.busy": "2024-08-02T14:38:41.270117Z",
     "iopub.status.idle": "2024-08-02T14:38:41.303633Z",
     "shell.execute_reply": "2024-08-02T14:38:41.302350Z",
     "shell.execute_reply.started": "2024-08-02T14:38:41.270558Z"
    },
    "papermill": {
     "duration": 0.01211,
     "end_time": "2024-08-29T13:25:07.171116",
     "exception": false,
     "start_time": "2024-08-29T13:25:07.159006",
     "status": "completed"
    },
    "tags": []
   },
   "source": [
    "## Step 1: Analog-to-Digital Conversion\n",
    "\n",
    "The Analog-to-Digital Conversion (adc) is performed by the detector to convert the pixel voltage into an integer number. We revert this operation by using the gain and offset for the calibration files 'train_adc_info.csv'.\n"
   ]
  },
  {
   "cell_type": "code",
   "execution_count": 5,
   "id": "f938f96b",
   "metadata": {
    "execution": {
     "iopub.execute_input": "2024-08-29T13:25:07.198812Z",
     "iopub.status.busy": "2024-08-29T13:25:07.198370Z",
     "iopub.status.idle": "2024-08-29T13:25:07.204826Z",
     "shell.execute_reply": "2024-08-29T13:25:07.203503Z"
    },
    "papermill": {
     "duration": 0.023531,
     "end_time": "2024-08-29T13:25:07.207817",
     "exception": false,
     "start_time": "2024-08-29T13:25:07.184286",
     "status": "completed"
    },
    "tags": []
   },
   "outputs": [],
   "source": [
    "def ADC_convert(signal, gain, offset):\n",
    "    signal = signal.astype(np.float64)\n",
    "    signal /= gain\n",
    "    signal += offset\n",
    "    return signal"
   ]
  },
  {
   "cell_type": "markdown",
   "id": "9a864f60",
   "metadata": {
    "papermill": {
     "duration": 0.011774,
     "end_time": "2024-08-29T13:25:07.232416",
     "exception": false,
     "start_time": "2024-08-29T13:25:07.220642",
     "status": "completed"
    },
    "tags": []
   },
   "source": [
    "## Step 2: Mask hot/dead pixel\n",
    "The dead pixels map is a map of the pixels that do not respond to light and, thus, can’t be accounted for any calculation. In all these frames the dead pixels are masked using python masked arrays. The bad pixels are thus masked but left uncorrected. Some methods can be used to correct bad-pixels but this task, if needed, is left to the participants."
   ]
  },
  {
   "cell_type": "code",
   "execution_count": 6,
   "id": "5828e39c",
   "metadata": {
    "execution": {
     "iopub.execute_input": "2024-08-29T13:25:07.258889Z",
     "iopub.status.busy": "2024-08-29T13:25:07.258470Z",
     "iopub.status.idle": "2024-08-29T13:25:07.265836Z",
     "shell.execute_reply": "2024-08-29T13:25:07.264596Z"
    },
    "papermill": {
     "duration": 0.023597,
     "end_time": "2024-08-29T13:25:07.268543",
     "exception": false,
     "start_time": "2024-08-29T13:25:07.244946",
     "status": "completed"
    },
    "tags": []
   },
   "outputs": [],
   "source": [
    "def mask_hot_dead(signal, dead, dark):\n",
    "    hot = sigma_clip(dark, sigma=5, maxiters=5).mask\n",
    "    hot = np.tile(hot, (signal.shape[0], 1, 1))\n",
    "    dead = np.tile(dead, (signal.shape[0], 1, 1))\n",
    "    signal = np.ma.masked_where(dead, signal)\n",
    "    signal = np.ma.masked_where(hot, signal)\n",
    "    return signal"
   ]
  },
  {
   "cell_type": "markdown",
   "id": "22175812",
   "metadata": {
    "papermill": {
     "duration": 0.013391,
     "end_time": "2024-08-29T13:25:07.295420",
     "exception": false,
     "start_time": "2024-08-29T13:25:07.282029",
     "status": "completed"
    },
    "tags": []
   },
   "source": [
    "## Step 2: linearity Correction"
   ]
  },
  {
   "cell_type": "markdown",
   "id": "6faeb7b7",
   "metadata": {
    "papermill": {
     "duration": 0.014964,
     "end_time": "2024-08-29T13:25:07.327644",
     "exception": false,
     "start_time": "2024-08-29T13:25:07.312680",
     "status": "completed"
    },
    "tags": []
   },
   "source": [
    "\n",
    "\n",
    "**Non-linearity of pixels' response:**\n",
    "\n",
    "The non-linearity of the pixels’ response can be explained as capacitive leakage on the readout electronics of each pixel during the integration time. The number of electrons in the well is proportional to the number of photons that hit the pixel, with a quantum efficiency coefficient. However, the response of the pixel is not linear with the number of electrons in the well. This effect can be described by a polynomial function of the number of electrons actually in the well. The data is provided with calibration files linear_corr.parquet that are the coefficients of the inverse polynomial function and can be used to correct this non-linearity effect.\n",
    "\n"
   ]
  },
  {
   "cell_type": "code",
   "execution_count": 7,
   "id": "cbb8a905",
   "metadata": {
    "execution": {
     "iopub.execute_input": "2024-08-29T13:25:07.362966Z",
     "iopub.status.busy": "2024-08-29T13:25:07.362467Z",
     "iopub.status.idle": "2024-08-29T13:25:07.372709Z",
     "shell.execute_reply": "2024-08-29T13:25:07.370967Z"
    },
    "papermill": {
     "duration": 0.032924,
     "end_time": "2024-08-29T13:25:07.375474",
     "exception": false,
     "start_time": "2024-08-29T13:25:07.342550",
     "status": "completed"
    },
    "tags": []
   },
   "outputs": [],
   "source": [
    "def apply_linear_corr(linear_corr, clean_signal):\n",
    "    linear_corr = np.flip(linear_corr, axis=0)\n",
    "    for x, y in itertools.product(\n",
    "        range(clean_signal.shape[1]), range(clean_signal.shape[2])\n",
    "    ):\n",
    "        poli = np.poly1d(linear_corr[:, x, y])\n",
    "        clean_signal[:, x, y] = poli(clean_signal[:, x, y])\n",
    "    return clean_signal"
   ]
  },
  {
   "cell_type": "markdown",
   "id": "dfea9b66",
   "metadata": {
    "papermill": {
     "duration": 0.012643,
     "end_time": "2024-08-29T13:25:07.400609",
     "exception": false,
     "start_time": "2024-08-29T13:25:07.387966",
     "status": "completed"
    },
    "tags": []
   },
   "source": [
    "## Step 3: dark current subtraction\n",
    "\n",
    "The data provided include calibration for dark current estimation, which can be used to pre-process the observations. Dark current represents a constant signal that accumulates in each pixel during the integration time, independent of the incoming light. To obtain the corrected image, the following conventional approach is applied: The data provided include calibration files such as dark frames or dead pixels' maps. They can be used to pre-process the observations. The dark frame is a map of the detector response to a very short exposure time, to correct for the dark current of the detector.\n",
    "$$\\text{image - dark} \\times \\Delta t $$ \n",
    "The corrected image is conventionally obtained via the following: where the dark current map is first corrected for the dead pixel."
   ]
  },
  {
   "cell_type": "code",
   "execution_count": 8,
   "id": "9d974db5",
   "metadata": {
    "execution": {
     "iopub.execute_input": "2024-08-29T13:25:07.432704Z",
     "iopub.status.busy": "2024-08-29T13:25:07.432224Z",
     "iopub.status.idle": "2024-08-29T13:25:07.439128Z",
     "shell.execute_reply": "2024-08-29T13:25:07.437845Z"
    },
    "papermill": {
     "duration": 0.028125,
     "end_time": "2024-08-29T13:25:07.441764",
     "exception": false,
     "start_time": "2024-08-29T13:25:07.413639",
     "status": "completed"
    },
    "tags": []
   },
   "outputs": [],
   "source": [
    "def clean_dark(signal, dead, dark, dt):\n",
    "\n",
    "    dark = np.ma.masked_where(dead, dark)\n",
    "    dark = np.tile(dark, (signal.shape[0], 1, 1))\n",
    "\n",
    "    signal -= dark * dt[:, np.newaxis, np.newaxis]\n",
    "    return signal"
   ]
  },
  {
   "cell_type": "markdown",
   "id": "ba852957",
   "metadata": {
    "papermill": {
     "duration": 0.013727,
     "end_time": "2024-08-29T13:25:07.472840",
     "exception": false,
     "start_time": "2024-08-29T13:25:07.459113",
     "status": "completed"
    },
    "tags": []
   },
   "source": [
    "## Step 4: Get Correlated Double Sampling (CDS)"
   ]
  },
  {
   "cell_type": "markdown",
   "id": "eeba273f",
   "metadata": {
    "papermill": {
     "duration": 0.017064,
     "end_time": "2024-08-29T13:25:07.505488",
     "exception": false,
     "start_time": "2024-08-29T13:25:07.488424",
     "status": "completed"
    },
    "tags": []
   },
   "source": [
    "The science frames are alternating between the start of the exposure and the end of the exposure. The lecture scheme is a ramp with a double sampling, called Correlated Double Sampling (CDS), the detector is read twice, once at the start of the exposure and once at the end of the exposure. The final CDS is the difference (End of exposure) - (Start of exposure)."
   ]
  },
  {
   "cell_type": "code",
   "execution_count": 9,
   "id": "597bef4d",
   "metadata": {
    "execution": {
     "iopub.execute_input": "2024-08-29T13:25:07.533234Z",
     "iopub.status.busy": "2024-08-29T13:25:07.532822Z",
     "iopub.status.idle": "2024-08-29T13:25:07.538986Z",
     "shell.execute_reply": "2024-08-29T13:25:07.537591Z"
    },
    "papermill": {
     "duration": 0.022926,
     "end_time": "2024-08-29T13:25:07.541562",
     "exception": false,
     "start_time": "2024-08-29T13:25:07.518636",
     "status": "completed"
    },
    "tags": []
   },
   "outputs": [],
   "source": [
    "def get_cds(signal):\n",
    "    cds = signal[:, 1::2, :, :] - signal[:, ::2, :, :]\n",
    "    return cds"
   ]
  },
  {
   "cell_type": "markdown",
   "id": "eb987d48",
   "metadata": {
    "papermill": {
     "duration": 0.012428,
     "end_time": "2024-08-29T13:25:07.566372",
     "exception": false,
     "start_time": "2024-08-29T13:25:07.553944",
     "status": "completed"
    },
    "tags": []
   },
   "source": [
    "## Step 5 (Optional): Time Binning\n",
    "This step is performed mainly to save space. Time series observations are binned together at specified frequency.\n",
    "\n",
    "Note: Binning also helps reduce the random noise in the data by averaging multiple time steps\n",
    "\n"
   ]
  },
  {
   "cell_type": "code",
   "execution_count": 10,
   "id": "edd06268",
   "metadata": {
    "execution": {
     "iopub.execute_input": "2024-08-29T13:25:07.593678Z",
     "iopub.status.busy": "2024-08-29T13:25:07.592654Z",
     "iopub.status.idle": "2024-08-29T13:25:07.600652Z",
     "shell.execute_reply": "2024-08-29T13:25:07.599510Z"
    },
    "papermill": {
     "duration": 0.023997,
     "end_time": "2024-08-29T13:25:07.603229",
     "exception": false,
     "start_time": "2024-08-29T13:25:07.579232",
     "status": "completed"
    },
    "tags": []
   },
   "outputs": [],
   "source": [
    "def bin_obs(cds_signal, binning):\n",
    "    # swap the height and width axis\n",
    "    cds_transposed = cds_signal.transpose(0, 1, 3, 2)\n",
    "\n",
    "    # binning the time step axis\n",
    "    cds_binned = np.zeros(\n",
    "        (\n",
    "            cds_transposed.shape[0],\n",
    "            cds_transposed.shape[1] // binning,\n",
    "            cds_transposed.shape[2],\n",
    "            cds_transposed.shape[3],\n",
    "        )\n",
    "    )\n",
    "\n",
    "    # iterate over the time steps in chunks of binning size,\n",
    "    # summing the flux values for each bin across the binning number of consecutive time steps\n",
    "    for i in range(cds_transposed.shape[1] // binning):\n",
    "        cds_binned[:, i, :, :] = np.sum(\n",
    "            cds_transposed[:, i * binning : (i + 1) * binning, :, :], axis=1\n",
    "        )\n",
    "\n",
    "    return cds_binned"
   ]
  },
  {
   "cell_type": "markdown",
   "id": "1c0637cb",
   "metadata": {
    "papermill": {
     "duration": 0.015633,
     "end_time": "2024-08-29T13:25:07.634973",
     "exception": false,
     "start_time": "2024-08-29T13:25:07.619340",
     "status": "completed"
    },
    "tags": []
   },
   "source": [
    "## Step 6: Flat Field Correction\n"
   ]
  },
  {
   "cell_type": "markdown",
   "id": "5cf886ab",
   "metadata": {
    "papermill": {
     "duration": 0.011976,
     "end_time": "2024-08-29T13:25:07.660972",
     "exception": false,
     "start_time": "2024-08-29T13:25:07.648996",
     "status": "completed"
    },
    "tags": []
   },
   "source": [
    "The flat field is a map of the detector response to uniform illumination, to correct for the pixel-to-pixel variations of the detector, for example the different quantum efficiencies of each pixel."
   ]
  },
  {
   "cell_type": "code",
   "execution_count": 11,
   "id": "4c2de5ca",
   "metadata": {
    "execution": {
     "iopub.execute_input": "2024-08-29T13:25:07.688896Z",
     "iopub.status.busy": "2024-08-29T13:25:07.688305Z",
     "iopub.status.idle": "2024-08-29T13:25:07.695618Z",
     "shell.execute_reply": "2024-08-29T13:25:07.694265Z"
    },
    "papermill": {
     "duration": 0.025161,
     "end_time": "2024-08-29T13:25:07.698534",
     "exception": false,
     "start_time": "2024-08-29T13:25:07.673373",
     "status": "completed"
    },
    "tags": []
   },
   "outputs": [],
   "source": [
    "def correct_flat_field(flat, dead, signal):\n",
    "    flat = flat.transpose(1, 0)\n",
    "    dead = dead.transpose(1, 0)\n",
    "    flat = np.ma.masked_where(dead, flat)\n",
    "    flat = np.tile(flat, (signal.shape[0], 1, 1))\n",
    "    signal = signal / flat\n",
    "    return signal"
   ]
  },
  {
   "cell_type": "markdown",
   "id": "27d2fe41",
   "metadata": {
    "papermill": {
     "duration": 0.012076,
     "end_time": "2024-08-29T13:25:07.726916",
     "exception": false,
     "start_time": "2024-08-29T13:25:07.714840",
     "status": "completed"
    },
    "tags": []
   },
   "source": [
    "# Calibrating all training data"
   ]
  },
  {
   "cell_type": "markdown",
   "id": "63ef2f4d",
   "metadata": {
    "papermill": {
     "duration": 0.013,
     "end_time": "2024-08-29T13:25:07.752620",
     "exception": false,
     "start_time": "2024-08-29T13:25:07.739620",
     "status": "completed"
    },
    "tags": []
   },
   "source": [
    "you can choose to correct the non-linearity of the pixels' response, to apply flat field, dark and dead map or to leave the data unchanged. The observations are binned in time by group of 30 frames for AIRS and 360 frames for FGS1, to obtain a lighter data-cube, easier to use. The images are cut along the wavelength axis between pixels 39 and 321, so that the 282 pixels left in the wavelength dimension match the last 282 targets' points, from AIRS. The 283rd targets' point is the one for FGS1 that will be added later on. "
   ]
  },
  {
   "cell_type": "code",
   "execution_count": 12,
   "id": "84d8f844",
   "metadata": {
    "execution": {
     "iopub.execute_input": "2024-08-29T13:25:07.779243Z",
     "iopub.status.busy": "2024-08-29T13:25:07.778831Z",
     "iopub.status.idle": "2024-08-29T13:25:07.786933Z",
     "shell.execute_reply": "2024-08-29T13:25:07.785755Z"
    },
    "papermill": {
     "duration": 0.024197,
     "end_time": "2024-08-29T13:25:07.789483",
     "exception": false,
     "start_time": "2024-08-29T13:25:07.765286",
     "status": "completed"
    },
    "tags": []
   },
   "outputs": [],
   "source": [
    "## we will start by getting the index of the training data:\n",
    "def get_index(files, CHUNKS_SIZE):\n",
    "    index = []\n",
    "    for file in files:\n",
    "        file_name = file.split(\"/\")[-1]\n",
    "        if (\n",
    "            file_name.split(\"_\")[0] == \"AIRS-CH0\"\n",
    "            and file_name.split(\"_\")[1] == \"signal.parquet\"\n",
    "        ):\n",
    "            file_index = os.path.basename(os.path.dirname(file))\n",
    "            index.append(int(file_index))\n",
    "    index = np.array(index)\n",
    "    index = np.sort(index)\n",
    "    # credit to DennisSakva\n",
    "    index = np.array_split(index, len(index) // CHUNKS_SIZE)\n",
    "\n",
    "    return index"
   ]
  },
  {
   "cell_type": "code",
   "execution_count": 13,
   "id": "65280987",
   "metadata": {},
   "outputs": [],
   "source": [
    "files = glob.glob(os.path.join(path_folder + \"train/\", \"*/*\"))\n",
    "\n",
    "# get the index of planet_id, and split it into chunks\n",
    "index = get_index(\n",
    "    files[: len(files) if TEST_FILE_NUM == -1 else TEST_FILE_NUM], CHUNKS_SIZE\n",
    ")"
   ]
  },
  {
   "cell_type": "code",
   "execution_count": 14,
   "id": "de1e9f53",
   "metadata": {
    "execution": {
     "iopub.execute_input": "2024-08-29T13:25:07.816223Z",
     "iopub.status.busy": "2024-08-29T13:25:07.815808Z",
     "iopub.status.idle": "2024-08-29T13:27:02.118854Z",
     "shell.execute_reply": "2024-08-29T13:27:02.117497Z"
    },
    "papermill": {
     "duration": 114.333225,
     "end_time": "2024-08-29T13:27:02.134952",
     "exception": false,
     "start_time": "2024-08-29T13:25:07.801727",
     "status": "completed"
    },
    "tags": []
   },
   "outputs": [
    {
     "name": "stderr",
     "output_type": "stream",
     "text": [
      "100%|██████████| 6/6 [01:05<00:00, 10.97s/it]\n"
     ]
    }
   ],
   "source": [
    "# load train_adc_info and set the index to planet_id\n",
    "train_adc_info = pd.read_csv(os.path.join(path_folder, \"train_adc_info.csv\"))\n",
    "train_adc_info = train_adc_info.set_index(\"planet_id\")\n",
    "# train_adc_info: [673 rows x 5 columns (planet_id, AIRS-CH0_adc_gain, AIRS-CH0_adc_offset, FGS1_adc_gain, FGS1_adc_offset)]\n",
    "\n",
    "# load axis_info\n",
    "axis_info = pd.read_parquet(os.path.join(path_folder, \"axis_info.parquet\"))\n",
    "\n",
    "# iterate over the chunks\n",
    "for n, index_chunk in enumerate(tqdm(index)):\n",
    "\n",
    "    AIRS_CH0_clean = np.zeros((CHUNKS_SIZE, 11250, 32, l))\n",
    "    FGS1_clean = np.zeros((CHUNKS_SIZE, 135000, 32, 32))\n",
    "\n",
    "    # iterate within a chunk\n",
    "    for i in range(CHUNKS_SIZE):\n",
    "\n",
    "        # LOAD AIRS DATA\n",
    "        # original shape: (11250, 11392)\n",
    "        df = pd.read_parquet(\n",
    "            os.path.join(path_folder, f\"train/{index_chunk[i]}/AIRS-CH0_signal.parquet\")\n",
    "        )\n",
    "        signal = df.values.astype(np.float64).reshape((df.shape[0], 32, 356))\n",
    "\n",
    "        # adc reversion using the gain and offset\n",
    "        gain = train_adc_info[\"AIRS-CH0_adc_gain\"].loc[index_chunk[i]]\n",
    "        offset = train_adc_info[\"AIRS-CH0_adc_offset\"].loc[index_chunk[i]]\n",
    "        signal = ADC_convert(signal, gain, offset)\n",
    "\n",
    "        # TODO: check this\n",
    "        dt_airs = axis_info[\"AIRS-CH0-integration_time\"].dropna().values\n",
    "        dt_airs[1::2] += 0.1\n",
    "\n",
    "        # cut AIRS signal along the wavelength axis\n",
    "        chopped_signal = signal[:, :, cut_inf:cut_sup]\n",
    "\n",
    "        del signal, df\n",
    "\n",
    "        # CLEANING THE DATA: AIRS\n",
    "        # original shape:\n",
    "        #   - flat: (32, 356)\n",
    "        #   - dark: (32, 356)\n",
    "        #   - dead_airs: (32, 356)\n",
    "        #   - linear_corr: (192, 356). 6th-order polynomial coefficients\n",
    "        flat = (\n",
    "            pd.read_parquet(\n",
    "                os.path.join(\n",
    "                    path_folder,\n",
    "                    f\"train/{index_chunk[i]}/AIRS-CH0_calibration/flat.parquet\",\n",
    "                )\n",
    "            )\n",
    "            .values.astype(np.float64)\n",
    "            .reshape((32, 356))[:, cut_inf:cut_sup]\n",
    "        )\n",
    "        dark = (\n",
    "            pd.read_parquet(\n",
    "                os.path.join(\n",
    "                    path_folder,\n",
    "                    f\"train/{index_chunk[i]}/AIRS-CH0_calibration/dark.parquet\",\n",
    "                )\n",
    "            )\n",
    "            .values.astype(np.float64)\n",
    "            .reshape((32, 356))[:, cut_inf:cut_sup]\n",
    "        )\n",
    "        dead_airs = (\n",
    "            pd.read_parquet(\n",
    "                os.path.join(\n",
    "                    path_folder,\n",
    "                    f\"train/{index_chunk[i]}/AIRS-CH0_calibration/dead.parquet\",\n",
    "                )\n",
    "            )\n",
    "            .values.astype(np.float64)\n",
    "            .reshape((32, 356))[:, cut_inf:cut_sup]\n",
    "        )\n",
    "        linear_corr = (\n",
    "            pd.read_parquet(\n",
    "                os.path.join(\n",
    "                    path_folder,\n",
    "                    f\"train/{index_chunk[i]}/AIRS-CH0_calibration/linear_corr.parquet\",\n",
    "                )\n",
    "            )\n",
    "            .values.astype(np.float64)\n",
    "            .reshape((6, 32, 356))[:, :, cut_inf:cut_sup]\n",
    "        )\n",
    "\n",
    "        if DO_MASK:\n",
    "            chopped_signal = mask_hot_dead(chopped_signal, dead_airs, dark)\n",
    "            AIRS_CH0_clean[i] = chopped_signal\n",
    "        else:\n",
    "            AIRS_CH0_clean[i] = chopped_signal\n",
    "\n",
    "        if DO_THE_NL_CORR:\n",
    "            linear_corr_signal = apply_linear_corr(linear_corr, AIRS_CH0_clean[i])\n",
    "            AIRS_CH0_clean[i, :, :, :] = linear_corr_signal\n",
    "        del linear_corr\n",
    "\n",
    "        if DO_DARK:\n",
    "            cleaned_signal = clean_dark(AIRS_CH0_clean[i], dead_airs, dark, dt_airs)\n",
    "            AIRS_CH0_clean[i] = cleaned_signal\n",
    "        else:\n",
    "            pass\n",
    "        del dark, chopped_signal\n",
    "\n",
    "        # LOAD FGS1 DATA\n",
    "        # original shape: (135000, 1024)\n",
    "        df = pd.read_parquet(\n",
    "            os.path.join(path_folder, f\"train/{index_chunk[i]}/FGS1_signal.parquet\")\n",
    "        )\n",
    "        fgs_signal = df.values.astype(np.float64).reshape((df.shape[0], 32, 32))\n",
    "\n",
    "        # adc reversion using the gain and offset\n",
    "        FGS1_gain = train_adc_info[\"FGS1_adc_gain\"].loc[index_chunk[i]]\n",
    "        FGS1_offset = train_adc_info[\"FGS1_adc_offset\"].loc[index_chunk[i]]\n",
    "        fgs_signal = ADC_convert(fgs_signal, FGS1_gain, FGS1_offset)\n",
    "\n",
    "        # TODO: check this\n",
    "        dt_fgs1 = np.ones(len(fgs_signal)) * 0.1\n",
    "        dt_fgs1[1::2] += 0.1\n",
    "\n",
    "        chopped_FGS1 = fgs_signal\n",
    "\n",
    "        del fgs_signal, df\n",
    "\n",
    "        # CLEANING THE DATA: FGS1\n",
    "        flat = (\n",
    "            pd.read_parquet(\n",
    "                os.path.join(\n",
    "                    path_folder, f\"train/{index_chunk[i]}/FGS1_calibration/flat.parquet\"\n",
    "                )\n",
    "            )\n",
    "            .values.astype(np.float64)\n",
    "            .reshape((32, 32))\n",
    "        )\n",
    "        dark = (\n",
    "            pd.read_parquet(\n",
    "                os.path.join(\n",
    "                    path_folder, f\"train/{index_chunk[i]}/FGS1_calibration/dark.parquet\"\n",
    "                )\n",
    "            )\n",
    "            .values.astype(np.float64)\n",
    "            .reshape((32, 32))\n",
    "        )\n",
    "        dead_fgs1 = (\n",
    "            pd.read_parquet(\n",
    "                os.path.join(\n",
    "                    path_folder, f\"train/{index_chunk[i]}/FGS1_calibration/dead.parquet\"\n",
    "                )\n",
    "            )\n",
    "            .values.astype(np.float64)\n",
    "            .reshape((32, 32))\n",
    "        )\n",
    "        linear_corr = (\n",
    "            pd.read_parquet(\n",
    "                os.path.join(\n",
    "                    path_folder,\n",
    "                    f\"train/{index_chunk[i]}/FGS1_calibration/linear_corr.parquet\",\n",
    "                )\n",
    "            )\n",
    "            .values.astype(np.float64)\n",
    "            .reshape((6, 32, 32))\n",
    "        )\n",
    "\n",
    "        if DO_MASK:\n",
    "            chopped_FGS1 = mask_hot_dead(chopped_FGS1, dead_fgs1, dark)\n",
    "            FGS1_clean[i] = chopped_FGS1\n",
    "        else:\n",
    "            FGS1_clean[i] = chopped_FGS1\n",
    "\n",
    "        if DO_THE_NL_CORR:\n",
    "            linear_corr_signal = apply_linear_corr(linear_corr, FGS1_clean[i])\n",
    "            FGS1_clean[i, :, :, :] = linear_corr_signal\n",
    "        del linear_corr\n",
    "\n",
    "        if DO_DARK:\n",
    "            cleaned_signal = clean_dark(FGS1_clean[i], dead_fgs1, dark, dt_fgs1)\n",
    "            FGS1_clean[i] = cleaned_signal\n",
    "        else:\n",
    "            pass\n",
    "        del dark, chopped_FGS1\n",
    "\n",
    "    # SAVE DATA AND FREE SPACE (after processing each chunk)\n",
    "    # frame number reduce to half after CDS\n",
    "    # shape:\n",
    "    #   - AIRS_CH0_clean: (CHUNKS_SIZE, 11250, 32, 282)\n",
    "    #   - FGS1_clean: (CHUNKS_SIZE, 135000, 32, 32)\n",
    "    #   - AIRS_cds: (CHUNKS_SIZE, 5625, 32, 282)\n",
    "    #   - FGS1_cds: (CHUNKS_SIZE, 67500, 32, 32)\n",
    "    AIRS_cds = get_cds(AIRS_CH0_clean)\n",
    "    FGS1_cds = get_cds(FGS1_clean)\n",
    "\n",
    "    del AIRS_CH0_clean, FGS1_clean\n",
    "\n",
    "    ## (Optional) Time Binning to reduce space\n",
    "    if TIME_BINNING:\n",
    "        AIRS_cds_binned = bin_obs(AIRS_cds, binning=AIRS_binning)\n",
    "        FGS1_cds_binned = bin_obs(FGS1_cds, binning=FGS1_binning)\n",
    "    else:\n",
    "        # transpose is important to make it consistent for flat fielding, but you can always change it\n",
    "        AIRS_cds = AIRS_cds.transpose(0, 1, 3, 2)\n",
    "        AIRS_cds_binned = AIRS_cds\n",
    "        FGS1_cds = FGS1_cds.transpose(0, 1, 3, 2)\n",
    "        FGS1_cds_binned = FGS1_cds\n",
    "\n",
    "    del AIRS_cds, FGS1_cds\n",
    "\n",
    "    # TODO: why flat after binning?\n",
    "    if DO_FLAT:\n",
    "        for i in range(CHUNKS_SIZE):\n",
    "            flat_airs = (\n",
    "                pd.read_parquet(\n",
    "                    os.path.join(\n",
    "                        path_folder,\n",
    "                        f\"train/{index_chunk[i]}/AIRS-CH0_calibration/flat.parquet\",\n",
    "                    )\n",
    "                )\n",
    "                .values.astype(np.float64)\n",
    "                .reshape((32, 356))[:, cut_inf:cut_sup]\n",
    "            )\n",
    "            flat_fgs = (\n",
    "                pd.read_parquet(\n",
    "                    os.path.join(\n",
    "                        path_folder,\n",
    "                        f\"train/{index_chunk[i]}/FGS1_calibration/flat.parquet\",\n",
    "                    )\n",
    "                )\n",
    "                .values.astype(np.float64)\n",
    "                .reshape((32, 32))\n",
    "            )\n",
    "            AIRS_cds_binned[i] = correct_flat_field(\n",
    "                flat_airs, dead_airs, AIRS_cds_binned[i]\n",
    "            )\n",
    "            FGS1_cds_binned[i] = correct_flat_field(\n",
    "                flat_fgs, dead_fgs1, FGS1_cds_binned[i]\n",
    "            )\n",
    "    else:\n",
    "        pass\n",
    "\n",
    "    ## save data\n",
    "    np.save(\n",
    "        os.path.join(path_out, \"AIRS_clean_train_{}.npy\".format(n)), AIRS_cds_binned\n",
    "    )\n",
    "    np.save(os.path.join(path_out, \"FGS1_train_{}.npy\".format(n)), FGS1_cds_binned)\n",
    "\n",
    "    del AIRS_cds_binned, FGS1_cds_binned"
   ]
  },
  {
   "cell_type": "markdown",
   "id": "1b253383",
   "metadata": {
    "papermill": {
     "duration": 0.014271,
     "end_time": "2024-08-29T13:27:02.162064",
     "exception": false,
     "start_time": "2024-08-29T13:27:02.147793",
     "status": "completed"
    },
    "tags": []
   },
   "source": [
    "Once all the chunks are saved, we concatenate them back in a single dataset. This step is simply to save HDD space, modify it as you wish. "
   ]
  },
  {
   "cell_type": "code",
   "execution_count": 15,
   "id": "09e960aa",
   "metadata": {
    "execution": {
     "iopub.execute_input": "2024-08-29T13:27:02.190432Z",
     "iopub.status.busy": "2024-08-29T13:27:02.190028Z",
     "iopub.status.idle": "2024-08-29T13:27:02.305002Z",
     "shell.execute_reply": "2024-08-29T13:27:02.303169Z"
    },
    "papermill": {
     "duration": 0.134081,
     "end_time": "2024-08-29T13:27:02.309386",
     "exception": false,
     "start_time": "2024-08-29T13:27:02.175305",
     "status": "completed"
    },
    "tags": []
   },
   "outputs": [],
   "source": [
    "def load_data(file, chunk_size, nb_files):\n",
    "    data0 = np.load(file + \"_0.npy\")\n",
    "    data_all = np.zeros(\n",
    "        (nb_files * chunk_size, data0.shape[1], data0.shape[2], data0.shape[3])\n",
    "    )\n",
    "    data_all[:chunk_size] = data0\n",
    "    for i in range(1, nb_files):\n",
    "        data_all[i * chunk_size : (i + 1) * chunk_size] = np.load(\n",
    "            file + \"_{}.npy\".format(i)\n",
    "        )\n",
    "    return data_all\n",
    "\n",
    "\n",
    "data_train = load_data(path_out + \"AIRS_clean_train\", CHUNKS_SIZE, len(index))\n",
    "data_train_FGS = load_data(path_out + \"FGS1_train\", CHUNKS_SIZE, len(index))\n",
    "\n",
    "np.save(path_out + \"data_train.npy\", data_train)\n",
    "np.save(path_out + \"data_train_FGS.npy\", data_train_FGS)"
   ]
  },
  {
   "cell_type": "markdown",
   "id": "e87f052b",
   "metadata": {
    "papermill": {
     "duration": 0.014312,
     "end_time": "2024-08-29T13:27:02.452873",
     "exception": false,
     "start_time": "2024-08-29T13:27:02.438561",
     "status": "completed"
    },
    "tags": []
   },
   "source": [
    "# Plots"
   ]
  },
  {
   "cell_type": "markdown",
   "id": "b10df6c1",
   "metadata": {
    "papermill": {
     "duration": 0.012982,
     "end_time": "2024-08-29T13:27:02.479542",
     "exception": false,
     "start_time": "2024-08-29T13:27:02.466560",
     "status": "completed"
    },
    "tags": []
   },
   "source": [
    "Let us checks that everything went well during the data import. "
   ]
  },
  {
   "cell_type": "code",
   "execution_count": 16,
   "id": "6ae2cb25",
   "metadata": {
    "execution": {
     "iopub.execute_input": "2024-08-29T13:27:02.508858Z",
     "iopub.status.busy": "2024-08-29T13:27:02.508386Z",
     "iopub.status.idle": "2024-08-29T13:27:02.518225Z",
     "shell.execute_reply": "2024-08-29T13:27:02.515087Z"
    },
    "papermill": {
     "duration": 0.02921,
     "end_time": "2024-08-29T13:27:02.521934",
     "exception": false,
     "start_time": "2024-08-29T13:27:02.492724",
     "status": "completed"
    },
    "tags": []
   },
   "outputs": [
    {
     "name": "stdout",
     "output_type": "stream",
     "text": [
      "Shape of the training dataset: \t\n",
      "\n",
      " For AIRS-CH0: (6, 187, 282, 32)\n",
      "\n",
      " For FGS1: (6, 187, 32, 32)\n"
     ]
    }
   ],
   "source": [
    "import matplotlib.pyplot as plt\n",
    "\n",
    "print(\"Shape of the training dataset: \\t\")\n",
    "print(\"\\n For AIRS-CH0:\", data_train.shape)\n",
    "print(\"\\n For FGS1:\", data_train_FGS.shape)"
   ]
  },
  {
   "cell_type": "markdown",
   "id": "418038be",
   "metadata": {
    "papermill": {
     "duration": 0.0146,
     "end_time": "2024-08-29T13:27:02.553564",
     "exception": false,
     "start_time": "2024-08-29T13:27:02.538964",
     "status": "completed"
    },
    "tags": []
   },
   "source": [
    "Plot of some images: "
   ]
  },
  {
   "cell_type": "code",
   "execution_count": 17,
   "id": "109946ea",
   "metadata": {
    "execution": {
     "iopub.execute_input": "2024-08-29T13:27:02.585183Z",
     "iopub.status.busy": "2024-08-29T13:27:02.584769Z",
     "iopub.status.idle": "2024-08-29T13:27:02.978463Z",
     "shell.execute_reply": "2024-08-29T13:27:02.977059Z"
    },
    "papermill": {
     "duration": 0.41396,
     "end_time": "2024-08-29T13:27:02.981707",
     "exception": false,
     "start_time": "2024-08-29T13:27:02.567747",
     "status": "completed"
    },
    "tags": []
   },
   "outputs": [
    {
     "data": {
      "image/png": "[encoded data removed]",
      "text/plain": [
       "<Figure size 1000x500 with 2 Axes>"
      ]
     },
     "metadata": {},
     "output_type": "display_data"
    }
   ],
   "source": [
    "fig = plt.figure(figsize=(10, 5))\n",
    "\n",
    "# 50th frame of the last chunk, x-axis: wavelength, y-axis: pixel\n",
    "ax1 = fig.add_subplot(211)\n",
    "ax1.imshow(data_train[-1, 50, :, :].T)\n",
    "ax1.set_xlabel(\"Wavelength\")\n",
    "ax1.set_ylabel(\"Pixel\")\n",
    "ax1.set_title(\"AIRS-CH0 data\")\n",
    "\n",
    "# squashing the pixel axis to get the total flux\n",
    "ax2 = fig.add_subplot(212)\n",
    "ax2.plot(data_train[-1, 50, :, :].T.sum(axis=0))\n",
    "ax2.set_xlabel(\"Wavelength\")\n",
    "ax2.set_ylabel(\"AIRS-CH0 data (Total flux)\")\n",
    "ax2.set_title(\"Total flux\")\n",
    "\n",
    "\n",
    "fig.show()"
   ]
  },
  {
   "cell_type": "code",
   "execution_count": 18,
   "id": "109946ea",
   "metadata": {
    "execution": {
     "iopub.execute_input": "2024-08-29T13:27:02.585183Z",
     "iopub.status.busy": "2024-08-29T13:27:02.584769Z",
     "iopub.status.idle": "2024-08-29T13:27:02.978463Z",
     "shell.execute_reply": "2024-08-29T13:27:02.977059Z"
    },
    "papermill": {
     "duration": 0.41396,
     "end_time": "2024-08-29T13:27:02.981707",
     "exception": false,
     "start_time": "2024-08-29T13:27:02.567747",
     "status": "completed"
    },
    "tags": []
   },
   "outputs": [
    {
     "data": {
      "image/png": "[encoded data removed]",
      "text/plain": [
       "<Figure size 640x480 with 2 Axes>"
      ]
     },
     "metadata": {},
     "output_type": "display_data"
    }
   ],
   "source": [
    "# 50th frame of the last chunk (observation), pixel value representing the flux\n",
    "# transpose the weight and height back to the original shape\n",
    "plt.imshow(data_train_FGS[-1, 50, :, :].T, aspect=\"auto\")\n",
    "plt.colorbar()\n",
    "plt.xlabel(\"Pixel\")\n",
    "plt.ylabel(\"Pixel\")\n",
    "plt.title(\"FGS1 data\")\n",
    "plt.show()"
   ]
  },
  {
   "cell_type": "markdown",
   "id": "7e2f09f5",
   "metadata": {
    "papermill": {
     "duration": 0.083722,
     "end_time": "2024-08-29T13:27:03.079452",
     "exception": false,
     "start_time": "2024-08-29T13:27:02.995730",
     "status": "completed"
    },
    "tags": []
   },
   "source": [
    "Plot of some light-curves: \n",
    "\n",
    "1. Exoplanetary Transit:\n",
    "    - An exoplanetary transit occurs when a planet passes in front of its host star as seen from the telescope's viewpoint. During this event, the planet blocks some portion of the star’s light, reducing the observed flux (brightness).\n",
    "    - The light curve captures this event as a drop in the total flux (the brightness of the star).\n",
    "\n",
    "2. Shape of the Transit Light Curve:\n",
    "The shape of a typical transit light curve has three main phases:\n",
    "    - **Out of Transit (High Flux)**: Before and after the planet transits the star, the light from the star is unblocked, and the observed flux is at its maximum. This corresponds to the flat high regions in the light curve plot.\n",
    "    - **Ingress and Egress (Transition)**: These are the periods when the planet starts moving in front of the star (ingress) and when it starts moving out of the transit (egress). During these periods, the light curve begins to drop rapidly. This causes the sharp downward slopes at the edges of the light curve.\n",
    "    - **Mid-Transit (Low Flux)**: When the planet is fully in front of the star, the flux reaches its minimum value. This results in the flat low region of the light curve, forming the \"gate\" or plateau-like shape."
   ]
  },
  {
   "cell_type": "code",
   "execution_count": 19,
   "id": "c3d90241",
   "metadata": {
    "execution": {
     "iopub.execute_input": "2024-08-29T13:27:03.112931Z",
     "iopub.status.busy": "2024-08-29T13:27:03.112299Z",
     "iopub.status.idle": "2024-08-29T13:27:03.466983Z",
     "shell.execute_reply": "2024-08-29T13:27:03.465633Z"
    },
    "papermill": {
     "duration": 0.375806,
     "end_time": "2024-08-29T13:27:03.469794",
     "exception": false,
     "start_time": "2024-08-29T13:27:03.093988",
     "status": "completed"
    },
    "tags": []
   },
   "outputs": [
    {
     "data": {
      "text/plain": [
       "Text(0, 0.5, 'Normalized flux in the frame')"
      ]
     },
     "execution_count": 19,
     "metadata": {},
     "output_type": "execute_result"
    },
    {
     "data": {
      "image/png": "[encoded data removed]",
      "text/plain": [
       "<Figure size 640x480 with 1 Axes>"
      ]
     },
     "metadata": {},
     "output_type": "display_data"
    }
   ],
   "source": [
    "# iterate over chunks of AIRS data\n",
    "for i in range(len(data_train)):\n",
    "\n",
    "    # for each chunk,\n",
    "    # 1. sum up the single frames along the weight and height axis to a flux value, as a function of time\n",
    "    # 2. normalize the flux values by the mean flux value\n",
    "    light_curve = data_train[i, :, :, :].sum(axis=(1, 2))\n",
    "    plt.plot(light_curve / light_curve.mean(), \"-\", alpha=0.3)\n",
    "\n",
    "plt.xlabel(\"Time (frame index)\")\n",
    "plt.ylabel(\"Normalized flux in the frame\")"
   ]
  }
 ],
 "metadata": {
  "kaggle": {
   "accelerator": "none",
   "dataSources": [
    {
     "databundleVersionId": 9188054,
     "sourceId": 70367,
     "sourceType": "competition"
    }
   ],
   "dockerImageVersionId": 30746,
   "isGpuEnabled": false,
   "isInternetEnabled": true,
   "language": "python",
   "sourceType": "notebook"
  },
  "kernelspec": {
   "display_name": "torch_ariel",
   "language": "python",
   "name": "python3"
  },
  "language_info": {
   "codemirror_mode": {
    "name": "ipython",
    "version": 3
   },
   "file_extension": ".py",
   "mimetype": "text/x-python",
   "name": "python",
   "nbconvert_exporter": "python",
   "pygments_lexer": "ipython3",
   "version": "3.12.7"
  },
  "papermill": {
   "default_parameters": {},
   "duration": 123.041003,
   "end_time": "2024-08-29T13:27:04.243126",
   "environment_variables": {},
   "exception": null,
   "input_path": "__notebook__.ipynb",
   "output_path": "__notebook__.ipynb",
   "parameters": {},
   "start_time": "2024-08-29T13:25:01.202123",
   "version": "2.5.0"
  }
 },
 "nbformat": 4,
 "nbformat_minor": 5
}
